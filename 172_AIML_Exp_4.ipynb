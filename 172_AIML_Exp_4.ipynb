{
  "metadata": {
    "kernelspec": {
      "language": "python",
      "display_name": "Python 3",
      "name": "python3"
    },
    "language_info": {
      "name": "python",
      "version": "3.10.12",
      "mimetype": "text/x-python",
      "codemirror_mode": {
        "name": "ipython",
        "version": 3
      },
      "pygments_lexer": "ipython3",
      "nbconvert_exporter": "python",
      "file_extension": ".py"
    },
    "colab": {
      "provenance": []
    }
  },
  "nbformat_minor": 0,
  "nbformat": 4,
  "cells": [
    {
      "cell_type": "code",
      "source": [
        "import cv2\n",
        "import glob\n",
        "import matplotlib.pyplot as plt\n",
        "import numpy as np\n",
        "from PIL import Image\n",
        "import random\n",
        "from tqdm.notebook import tqdm\n",
        "np.random.seed(1)"
      ],
      "metadata": {
        "execution": {
          "iopub.status.busy": "2023-09-10T05:39:34.413107Z",
          "iopub.execute_input": "2023-09-10T05:39:34.413365Z",
          "iopub.status.idle": "2023-09-10T05:39:34.692653Z",
          "shell.execute_reply.started": "2023-09-10T05:39:34.413339Z",
          "shell.execute_reply": "2023-09-10T05:39:34.691736Z"
        },
        "trusted": true,
        "id": "ochJ9FDUtPmh"
      },
      "execution_count": null,
      "outputs": []
    },
    {
      "cell_type": "code",
      "source": [
        "pneumonia_paths = glob.glob('/kaggle/input/chest-xray-pneumonia/chest_xray/train/PNEUMONIA/*.jpeg', recursive = True)\n",
        "normal_paths = glob.glob('/kaggle/input/chest-xray-pneumonia/chest_xray/train/NORMAL/*.jpeg', recursive = True)"
      ],
      "metadata": {
        "execution": {
          "iopub.status.busy": "2023-09-10T05:39:49.922101Z",
          "iopub.execute_input": "2023-09-10T05:39:49.922471Z",
          "iopub.status.idle": "2023-09-10T05:39:50.332546Z",
          "shell.execute_reply.started": "2023-09-10T05:39:49.922441Z",
          "shell.execute_reply": "2023-09-10T05:39:50.331562Z"
        },
        "trusted": true,
        "id": "J15P7TtMtPmw"
      },
      "execution_count": null,
      "outputs": []
    },
    {
      "cell_type": "code",
      "source": [
        "def resize_image_square_opencv(image_path, target_size):\n",
        "    image = cv2.imread(image_path)\n",
        "    resized_image = cv2.resize(image, (target_size, target_size))\n",
        "    return resized_image"
      ],
      "metadata": {
        "execution": {
          "iopub.status.busy": "2023-09-10T05:39:52.338219Z",
          "iopub.execute_input": "2023-09-10T05:39:52.338569Z",
          "iopub.status.idle": "2023-09-10T05:39:52.344573Z",
          "shell.execute_reply.started": "2023-09-10T05:39:52.338541Z",
          "shell.execute_reply": "2023-09-10T05:39:52.343668Z"
        },
        "trusted": true,
        "id": "Ui-_0RnBtPmx"
      },
      "execution_count": null,
      "outputs": []
    },
    {
      "cell_type": "code",
      "source": [
        "import numpy as np\n",
        "import pandas as pd\n",
        "from keras.layers import Conv2D, Dense, MaxPooling2D, Softmax, Dropout, BatchNormalization, Flatten\n",
        "from keras import Sequential\n",
        "import keras\n",
        "import tensorflow as tf\n",
        "import cv2 as cv\n",
        "from tqdm import tqdm\n",
        "import matplotlib.pyplot as plt\n",
        "from sklearn.model_selection import train_test_split\n",
        "from keras import optimizers"
      ],
      "metadata": {
        "execution": {
          "iopub.status.busy": "2023-09-10T05:39:54.931211Z",
          "iopub.execute_input": "2023-09-10T05:39:54.931570Z",
          "iopub.status.idle": "2023-09-10T05:40:03.780991Z",
          "shell.execute_reply.started": "2023-09-10T05:39:54.931541Z",
          "shell.execute_reply": "2023-09-10T05:40:03.779908Z"
        },
        "trusted": true,
        "id": "h7LQcBZ0tPmx"
      },
      "execution_count": null,
      "outputs": []
    },
    {
      "cell_type": "code",
      "source": [
        "model = Sequential()\n",
        "model.add(Conv2D(input_shape = (128,128,1), activation=\"relu\", filters= 64, strides=1, kernel_size= (8,8)))\n",
        "model.add(MaxPooling2D(pool_size= (8,8)))\n",
        "model.add(BatchNormalization())\n",
        "model.add(Dropout(0.2))\n",
        "model.add(Flatten())\n",
        "model.add(Dense(100, activation=\"relu\"))\n",
        "model.add(Dense(1,\"softmax\"))"
      ],
      "metadata": {
        "execution": {
          "iopub.status.busy": "2023-09-10T05:33:10.224107Z",
          "iopub.execute_input": "2023-09-10T05:33:10.224741Z",
          "iopub.status.idle": "2023-09-10T05:33:12.997316Z",
          "shell.execute_reply.started": "2023-09-10T05:33:10.224707Z",
          "shell.execute_reply": "2023-09-10T05:33:12.996347Z"
        },
        "trusted": true,
        "id": "7N2FhOtvtPmz"
      },
      "execution_count": null,
      "outputs": []
    },
    {
      "cell_type": "code",
      "source": [
        "model.compile(loss=\"binary_crossentropy\",\n",
        "              optimizer = \"RMSprop\",metrics=[\"accuracy\"])\n",
        "callback = keras.callbacks.EarlyStopping(monitor='loss', patience=2)"
      ],
      "metadata": {
        "execution": {
          "iopub.status.busy": "2023-09-10T05:33:12.999599Z",
          "iopub.execute_input": "2023-09-10T05:33:13.000297Z",
          "iopub.status.idle": "2023-09-10T05:33:13.016684Z",
          "shell.execute_reply.started": "2023-09-10T05:33:13.000260Z",
          "shell.execute_reply": "2023-09-10T05:33:13.015746Z"
        },
        "trusted": true,
        "id": "MpsCURp-tPm0"
      },
      "execution_count": null,
      "outputs": []
    },
    {
      "cell_type": "code",
      "source": [
        "#resnet model\n",
        "resnet_model = Sequential()\n",
        "\n",
        "pretrained_model= tf.keras.applications.ResNet50(include_top=False,\n",
        "                   input_shape=(180,180,3),\n",
        "                   pooling='avg',classes=5,\n",
        "                   weights='imagenet')\n",
        "for layer in pretrained_model.layers:\n",
        "        layer.trainable=False\n",
        "\n",
        "resnet_model.add(pretrained_model)\n",
        "resnet_model.add(Flatten())\n",
        "resnet_model.add(Dense(512, activation='relu'))\n",
        "resnet_model.add(Dense(1, activation='softmax'))\n",
        "model = resnet_model\n",
        "\n",
        "adam = optimizers.Adam()\n",
        "model.compile(loss='binary_crossentropy',\n",
        "              optimizer=adam,\n",
        "              metrics=['accuracy'])"
      ],
      "metadata": {
        "execution": {
          "iopub.status.busy": "2023-09-10T05:40:06.963550Z",
          "iopub.execute_input": "2023-09-10T05:40:06.964197Z",
          "iopub.status.idle": "2023-09-10T05:40:13.627858Z",
          "shell.execute_reply.started": "2023-09-10T05:40:06.964165Z",
          "shell.execute_reply": "2023-09-10T05:40:13.626874Z"
        },
        "trusted": true,
        "id": "PeFCQezqtPm0",
        "outputId": "f9cb4206-3585-422c-ebaa-767d82144426",
        "colab": {
          "base_uri": "https://localhost:8080/"
        }
      },
      "execution_count": null,
      "outputs": [
        {
          "output_type": "stream",
          "name": "stdout",
          "text": [
            "Downloading data from https://storage.googleapis.com/tensorflow/keras-applications/resnet/resnet50_weights_tf_dim_ordering_tf_kernels_notop.h5\n",
            "94765736/94765736 [==============================] - 0s 0us/step\n"
          ]
        }
      ]
    },
    {
      "cell_type": "code",
      "source": [
        "#X_train, X_test, Y_train, Y_test = train_test_split(X, Y, random_state = 42)"
      ],
      "metadata": {
        "id": "HuadXqzhtPm1"
      },
      "execution_count": null,
      "outputs": []
    },
    {
      "cell_type": "code",
      "source": [
        "X = []\n",
        "Y = []"
      ],
      "metadata": {
        "execution": {
          "iopub.status.busy": "2023-09-10T05:40:23.020260Z",
          "iopub.execute_input": "2023-09-10T05:40:23.020687Z",
          "iopub.status.idle": "2023-09-10T05:40:23.027538Z",
          "shell.execute_reply.started": "2023-09-10T05:40:23.020649Z",
          "shell.execute_reply": "2023-09-10T05:40:23.026659Z"
        },
        "trusted": true,
        "id": "WHfo1f48tPm2"
      },
      "execution_count": null,
      "outputs": []
    },
    {
      "cell_type": "code",
      "source": [
        "for i in tqdm(pneumonia_paths[:1341]):\n",
        "    X.append(resize_image_square_opencv(i, 180))\n",
        "    Y.append(1)\n",
        "\n",
        "for i in tqdm(normal_paths):\n",
        "    X.append(resize_image_square_opencv(i, 180))\n",
        "    Y.append(0)"
      ],
      "metadata": {
        "execution": {
          "iopub.status.busy": "2023-09-10T05:40:32.267963Z",
          "iopub.execute_input": "2023-09-10T05:40:32.268311Z",
          "iopub.status.idle": "2023-09-10T05:41:37.282938Z",
          "shell.execute_reply.started": "2023-09-10T05:40:32.268283Z",
          "shell.execute_reply": "2023-09-10T05:41:37.281818Z"
        },
        "trusted": true,
        "id": "maQZYh_otPm2",
        "outputId": "919a9899-ab60-42df-ad51-8e7496a165c0",
        "colab": {
          "base_uri": "https://localhost:8080/"
        }
      },
      "execution_count": null,
      "outputs": [
        {
          "output_type": "stream",
          "name": "stderr",
          "text": [
            "0it [00:00, ?it/s]\n",
            "0it [00:00, ?it/s]\n"
          ]
        }
      ]
    },
    {
      "cell_type": "code",
      "source": [
        "X = np.array(X)\n",
        "Y = np.array(Y)\n"
      ],
      "metadata": {
        "execution": {
          "iopub.status.busy": "2023-09-10T05:42:16.230961Z",
          "iopub.execute_input": "2023-09-10T05:42:16.231324Z",
          "iopub.status.idle": "2023-09-10T05:42:16.315565Z",
          "shell.execute_reply.started": "2023-09-10T05:42:16.231295Z",
          "shell.execute_reply": "2023-09-10T05:42:16.314554Z"
        },
        "trusted": true,
        "id": "e0upgZS8tPm3"
      },
      "execution_count": null,
      "outputs": []
    },
    {
      "cell_type": "code",
      "source": [
        "X_train, X_test, Y_train, Y_test = train_test_split(X, Y, random_state = 42)"
      ],
      "metadata": {
        "execution": {
          "iopub.status.busy": "2023-09-10T05:42:20.461676Z",
          "iopub.execute_input": "2023-09-10T05:42:20.462041Z",
          "iopub.status.idle": "2023-09-10T05:42:20.546328Z",
          "shell.execute_reply.started": "2023-09-10T05:42:20.462013Z",
          "shell.execute_reply": "2023-09-10T05:42:20.545335Z"
        },
        "trusted": true,
        "id": "DDqeTBs5tPm4"
      },
      "execution_count": null,
      "outputs": []
    },
    {
      "cell_type": "code",
      "source": [
        "from keras.callbacks import ModelCheckpoint\n",
        "checkpoint_acc = ModelCheckpoint(\"best_raw.h5\", monitor='val_accuracy', verbose=1, save_best_only=True, mode='max')\n",
        "checkpoint_val = ModelCheckpoint(\"best_raw.h5\", monitor='val_loss', verbose=1, save_best_only=True, mode='min', save_weights_only=False)"
      ],
      "metadata": {
        "execution": {
          "iopub.status.busy": "2023-09-10T05:42:23.403687Z",
          "iopub.execute_input": "2023-09-10T05:42:23.404372Z",
          "iopub.status.idle": "2023-09-10T05:42:23.410461Z",
          "shell.execute_reply.started": "2023-09-10T05:42:23.404338Z",
          "shell.execute_reply": "2023-09-10T05:42:23.409473Z"
        },
        "trusted": true,
        "id": "21b3dCcntPm4"
      },
      "execution_count": null,
      "outputs": []
    },
    {
      "cell_type": "code",
      "source": [
        "history = model.fit(X_train, Y_train,epochs=50,batch_size=32, verbose=1, validation_split = 0.2, callbacks = [checkpoint_val, checkpoint_acc]  )\n"
      ],
      "metadata": {
        "execution": {
          "iopub.status.busy": "2023-09-10T05:42:25.488659Z",
          "iopub.execute_input": "2023-09-10T05:42:25.489352Z",
          "iopub.status.idle": "2023-09-10T05:44:50.138962Z",
          "shell.execute_reply.started": "2023-09-10T05:42:25.489317Z",
          "shell.execute_reply": "2023-09-10T05:44:50.138047Z"
        },
        "trusted": true,
        "id": "OXlDCbPstPm4"
      },
      "execution_count": null,
      "outputs": []
    },
    {
      "cell_type": "code",
      "source": [
        "plt.plot(history.history['loss'])\n",
        "plt.plot(history.history['accuracy'])\n",
        "plt.title('model accuracy')\n",
        "plt.ylabel('accuracy')\n",
        "plt.xlabel('epoch')\n",
        "plt.legend(['train', 'test'], loc='upper left')\n",
        "plt.show()"
      ],
      "metadata": {
        "execution": {
          "iopub.status.busy": "2023-09-10T05:49:03.276791Z",
          "iopub.execute_input": "2023-09-10T05:49:03.277938Z",
          "iopub.status.idle": "2023-09-10T05:49:03.589481Z",
          "shell.execute_reply.started": "2023-09-10T05:49:03.277886Z",
          "shell.execute_reply": "2023-09-10T05:49:03.588555Z"
        },
        "trusted": true,
        "id": "aQ1e388ZtPm4"
      },
      "execution_count": null,
      "outputs": []
    },
    {
      "cell_type": "code",
      "source": [
        "results  = model.evaluate(X_test, Y_test, batch_size = 2)"
      ],
      "metadata": {
        "execution": {
          "iopub.status.busy": "2023-09-10T05:49:09.584339Z",
          "iopub.execute_input": "2023-09-10T05:49:09.584717Z",
          "iopub.status.idle": "2023-09-10T05:49:14.884450Z",
          "shell.execute_reply.started": "2023-09-10T05:49:09.584686Z",
          "shell.execute_reply": "2023-09-10T05:49:14.883377Z"
        },
        "trusted": true,
        "id": "229XhCt8tPm5"
      },
      "execution_count": null,
      "outputs": []
    },
    {
      "cell_type": "code",
      "source": [
        "print(\"test loss : \", results[0], \" test accuracy : \", results[1])"
      ],
      "metadata": {
        "execution": {
          "iopub.status.busy": "2023-09-10T05:49:17.607486Z",
          "iopub.execute_input": "2023-09-10T05:49:17.607911Z",
          "iopub.status.idle": "2023-09-10T05:49:17.615780Z",
          "shell.execute_reply.started": "2023-09-10T05:49:17.607874Z",
          "shell.execute_reply": "2023-09-10T05:49:17.614662Z"
        },
        "trusted": true,
        "id": "k8ZVqpg5tPm5"
      },
      "execution_count": null,
      "outputs": []
    }
  ]
}